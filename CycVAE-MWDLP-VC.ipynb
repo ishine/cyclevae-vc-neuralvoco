{
  "nbformat": 4,
  "nbformat_minor": 0,
  "metadata": {
    "colab": {
      "name": "Scyclone_PyTorch.ipynb",
      "private_outputs": true,
      "provenance": [],
      "collapsed_sections": []
    },
    "kernelspec": {
      "name": "python3",
      "display_name": "Python 3"
    }
  },
  "cells": [
    {
      "cell_type": "markdown",
      "metadata": {
        "id": "tdhd5TPUAST9"
      },
      "source": [
        "# CycVAE-MWDLP-VC\n",
        "[![Generic badge](https://img.shields.io/badge/GitHub-CycVAE_MWDLP_VC-9cf.svg)][github]\n",
        "[![Open In Colab](https://colab.research.google.com/assets/colab-badge.svg)][notebook]\n",
        "\n",
        "Author: [tarepan]\n",
        "\n",
        "[github]:https://github.com/tarepan/cyclevae-vc-neuralvoco\n",
        "[notebook]:https://colab.research.google.com/github/tarepan/cyclevae-vc-neuralvoco/blob/master/CycVAE-MWDLP-VC.ipynb\n",
        "[tarepan]:https://github.com/tarepan"
      ]
    },
    {
      "cell_type": "markdown",
      "metadata": {
        "id": "QFQivUIyZyYi"
      },
      "source": [
        "## Colab Check\n",
        "Check\n",
        "- Google Colaboratory runnning time\n",
        "- GPU type\n",
        "- Python version\n",
        "- CUDA version"
      ]
    },
    {
      "cell_type": "code",
      "metadata": {
        "id": "4cwyMoXOZ7e1"
      },
      "source": [
        "!cat /proc/uptime | awk '{print $1 /60 /60 /24 \"days (\" $1 \"sec)\"}'\n",
        "!head -n 1 /proc/driver/nvidia/gpus/**/information\n",
        "!python --version\n",
        "!cat /usr/local/cuda/version.txt"
      ],
      "execution_count": null,
      "outputs": []
    },
    {
      "cell_type": "markdown",
      "metadata": {
        "id": "K125Ein7VCwM"
      },
      "source": [
        "## Setup"
      ]
    },
    {
      "cell_type": "markdown",
      "metadata": {
        "id": "TyfW4wRFASUB"
      },
      "source": [
        "Activate notebook intermittently for long session (RUN once **by hand**)\n",
        "```javascript\n",
        "const refresher = setInterval(()=>{document.querySelector(\"colab-connect-button\").click();console.log(\"clicked for long session\");}, 1000*60*10);\n",
        "```"
      ]
    },
    {
      "cell_type": "markdown",
      "metadata": {
        "id": "Eo2UP820ASUC"
      },
      "source": [
        "Install package from `tarepan/UniversalVocoding` public repository"
      ]
    },
    {
      "cell_type": "code",
      "metadata": {
        "id": "wZ9fU-17Sdxb"
      },
      "source": [
        "# GoogleDrive\n",
        "from google.colab import drive\n",
        "drive.mount('/content/gdrive')\n",
        "\n",
        "# repository install\n",
        "!pip uninstall rnnms -y -q\n",
        "!pip install git+https://github.com/tarepan/UniversalVocoding -q"
      ],
      "execution_count": null,
      "outputs": []
    },
    {
      "cell_type": "markdown",
      "metadata": {
        "id": "ptA8A-dhEgqZ"
      },
      "source": [
        "## Training"
      ]
    },
    {
      "cell_type": "code",
      "metadata": {
        "id": "FKIasW5cTqhl"
      },
      "source": [
        "# Start TensorBoard\n",
        "%load_ext tensorboard\n",
        "%tensorboard --logdir gdrive/MyDrive/ML_results/rnnms\n",
        "\n",
        "# auto-resume\n",
        "!python -m rnnms.main_train --dir_root=gdrive/MyDrive/ML_results --name_exp=rnnms --name_version=version_0 --adress_data_root=gdrive/MyDrive/ML_data"
      ],
      "execution_count": null,
      "outputs": []
    },
    {
      "cell_type": "markdown",
      "metadata": {
        "id": "0kkZ3yMBASUE"
      },
      "source": [
        "## Training Optimization"
      ]
    },
    {
      "cell_type": "markdown",
      "metadata": {
        "id": "WBm004__ASUE"
      },
      "source": [
        "### num_worker"
      ]
    },
    {
      "cell_type": "code",
      "metadata": {
        "id": "u6e5CdqGASUE"
      },
      "source": [
        "!python -m rnnms.main_train --max_epochs=1 --num_workers=0 --adress_data_root=gdrive/MyDrive/ML_data\n",
        "!python -m rnnms.main_train --max_epochs=1 --num_workers=1 --adress_data_root=gdrive/MyDrive/ML_data\n",
        "!python -m rnnms.main_train --max_epochs=1 --num_workers=2 --adress_data_root=gdrive/MyDrive/ML_data\n",
        "!python -m rnnms.main_train --max_epochs=1 --num_workers=4 --adress_data_root=gdrive/MyDrive/ML_data"
      ],
      "execution_count": null,
      "outputs": []
    },
    {
      "cell_type": "markdown",
      "metadata": {
        "id": "r7ozt6iqASUF"
      },
      "source": [
        "### pin_memory"
      ]
    },
    {
      "cell_type": "code",
      "metadata": {
        "id": "Hu0guZOdASUF"
      },
      "source": [
        "!python -m rnnms.main_train --max_epochs=1 --no_pin_memory --adress_data_root=gdrive/MyDrive/ML_data\n",
        "!python -m rnnms.main_train --max_epochs=1 --adress_data_root=gdrive/MyDrive/ML_data"
      ],
      "execution_count": null,
      "outputs": []
    },
    {
      "cell_type": "markdown",
      "metadata": {
        "id": "17PmSdUCASUF"
      },
      "source": [
        "### Profiling"
      ]
    },
    {
      "cell_type": "code",
      "metadata": {
        "id": "K7Ru6uVEASUG"
      },
      "source": [
        "!python -m rnnms.main_train --profiler --max_epochs=1 --adress_data_root=gdrive/MyDrive/ML_data"
      ],
      "execution_count": null,
      "outputs": []
    },
    {
      "cell_type": "code",
      "metadata": {
        "id": "sUGjojOZASUG"
      },
      "source": [
        "# # Usage stat\n",
        "# ## GPU\n",
        "# !nvidia-smi -l 3\n",
        "# ## CPU\n",
        "# !vmstat 5\n",
        "# !top"
      ],
      "execution_count": null,
      "outputs": []
    },
    {
      "cell_type": "markdown",
      "metadata": {
        "id": "ji1DUWg6ASUG"
      },
      "source": [
        ""
      ]
    }
  ]
}